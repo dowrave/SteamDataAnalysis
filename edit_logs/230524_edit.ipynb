{
 "cells": [
  {
   "cell_type": "markdown",
   "id": "6cb5f1c7-67f0-4cd9-9b5f-e9fdfa8ff6ed",
   "metadata": {},
   "source": [
    "### 230524 내역 \n",
    "- 코드 수정 내역들만 적어놓음\n",
    "1. 기존 수집 데이터 수정(`ansi -> utf-8`) & 깨진 데이터 수작업으로 복원\n",
    "2. 뻑난 동안 새로 수집한 데이터와 합침"
   ]
  },
  {
   "cell_type": "markdown",
   "id": "77ad4166-9534-474f-a722-6388926c4b0a",
   "metadata": {},
   "source": [
    "### 1."
   ]
  },
  {
   "cell_type": "code",
   "execution_count": null,
   "id": "f7f3334f-6e16-449b-a5d0-2967a4ea36f7",
   "metadata": {},
   "outputs": [],
   "source": [
    "df1 = pd.read_csv('기존 데이터/time_value_test.csv', encoding = 'ansi')\n",
    "df2 = pd.read_csv('기존 데이터/info.csv')[['appid', 'name']]\n",
    "# 이 df1의 name을 drop하고 info에 있는 정보 중 name만 합쳐주자\n",
    "\n",
    "df1 = df1.drop('name', axis = 1)\n",
    "new_df1 = df1.merge(df2, on = 'appid')\n",
    "new_df1[new_df1['appid'] == 588040]\n",
    "\n",
    "new_df1 = new_df1[TIME_VALUE_COLUMNS]\n",
    "new_df1.to_csv('기존 데이터/edited_time_value.csv', index = False)\n",
    "\n",
    "test = pd.read_csv('기존 데이터/edited_time_value.csv')"
   ]
  },
  {
   "cell_type": "markdown",
   "id": "085c6abf-e7ac-4306-aebc-d201a5d22a1b",
   "metadata": {},
   "source": [
    "### 2.데이터 병합\n",
    "- `old`에 없는 데이터만을 `new`에서 추려낸 뒤 `old`에 옮김\n",
    "- 기존 데이터 수집 과정에 중복된 데이터가 포함될 수 있음(`appid`가 겹치지 않으면서 `name`이 같은 데이터만 `추가`되는 경우)"
   ]
  },
  {
   "cell_type": "code",
   "execution_count": null,
   "id": "635b8eca-7fee-45a3-b894-3158289ec1bc",
   "metadata": {},
   "outputs": [],
   "source": [
    "new_info = pd.read_csv('info.csv')\n",
    "old_info = pd.read_csv('기존 데이터/info.csv')\n",
    "\n",
    "merged_info = pd.concat([old_info, new_info])\n",
    "merged_info = merged_info.drop_duplicates(subset = ['appid'])\n",
    "merged_info = merged_info.drop_duplicates(subset = ['name'])\n",
    "merged_info.info()\n",
    "\n",
    "new_tag = pd.read_csv('tag.csv')\n",
    "old_tag = pd.read_csv('기존 데이터/tag.csv')\n",
    "merged_tag = pd.concat([old_tag, new_tag])\n",
    "merged_tag = merged_tag.drop_duplicates(subset = ['appid'])\n",
    "merged_tag = merged_tag.drop_duplicates(subset = ['name'])\n",
    "merged_tag.info()\n",
    "\n",
    "new_lang_genre = pd.read_csv('lang_genre.csv')\n",
    "old_lang_genre = pd.read_csv('기존 데이터/lang_genre.csv')\n",
    "merged_lang_genre = pd.concat([old_lang_genre, new_lang_genre])\n",
    "merged_lang_genre = merged_lang_genre.drop_duplicates(subset = ['appid'])\n",
    "merged_lang_genre = merged_lang_genre.drop_duplicates(subset = ['name'])\n",
    "merged_lang_genre.info() # Null 값 있다!\n",
    "\n",
    "new_time_value = pd.read_csv('time_value.csv')\n",
    "old_time_value = pd.read_csv('기존 데이터/edited_time_value.csv')\n",
    "merged_time_value = pd.concat([old_time_value, new_time_value])\n",
    "merged_time_value = merged_time_value.drop_duplicates(subset = ['appid', 'date'])\n",
    "merged_time_value = merged_time_value.drop_duplicates(subset = ['name', 'date'])\n",
    "merged_time_value.info() # Null 값 있다!\n",
    "\n",
    "# 병합 데이터 저장 및 재실행 실험\n",
    "merged_info.to_csv('병합_테스트/info.csv', index = False)\n",
    "merged_time_value.to_csv('병합_테스트/time_value.csv', index = False)\n",
    "merged_lang_genre.to_csv('병합_테스트/lang_genre.csv', index = False)\n",
    "merged_tag.to_csv('병합_테스트/tag.csv', index = False)\n",
    "\n",
    "test_info = pd.read_csv('병합_테스트/info.csv')\n",
    "test_time_value = pd.read_csv('병합_테스트/time_value.csv')\n",
    "test_lang_genre = pd.read_csv('병합_테스트/lang_genre.csv')\n",
    "test_tag = pd.read_csv('병합_테스트/tag.csv')\n",
    "\n",
    "test_time_value.info()\n",
    "\n",
    "print(test_info.shape, test_lang_genre.shape, test_tag.shape)\n",
    "print(test_time_value.date.unique())\n"
   ]
  }
 ],
 "metadata": {
  "kernelspec": {
   "display_name": "Python 3 (ipykernel)",
   "language": "python",
   "name": "python3"
  },
  "language_info": {
   "codemirror_mode": {
    "name": "ipython",
    "version": 3
   },
   "file_extension": ".py",
   "mimetype": "text/x-python",
   "name": "python",
   "nbconvert_exporter": "python",
   "pygments_lexer": "ipython3",
   "version": "3.9.13"
  }
 },
 "nbformat": 4,
 "nbformat_minor": 5
}
